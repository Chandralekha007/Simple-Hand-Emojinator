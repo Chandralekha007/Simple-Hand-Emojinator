{
 "cells": [
  {
   "cell_type": "code",
   "execution_count": 1,
   "metadata": {},
   "outputs": [],
   "source": [
    "#Model\n",
    "import numpy as np\n",
    "import pandas as pd\n",
    "from keras.layers import Dense,Flatten,Conv2D\n",
    "from keras.layers import MaxPooling2D,Dropout\n",
    "from keras.utils import np_utils\n",
    "from keras.models import Sequential\n",
    "from keras.callbacks import ModelCheckpoint\n",
    "import keras.backend as K\n",
    "from sklearn.model_selection import train_test_split\n",
    "from sklearn.preprocessing import LabelEncoder\n",
    "from keras.utils.np_utils import to_categorical\n"
   ]
  },
  {
   "cell_type": "code",
   "execution_count": 2,
   "metadata": {},
   "outputs": [],
   "source": [
    "#importing data\n",
    "data=pd.read_csv(\"train_foo.csv\")\n",
    "dataset=np.array(data)\n",
    "np.random.shuffle(dataset)\n",
    "X=dataset\n",
    "Y=dataset\n",
    "X=X[:, 1:2501]\n",
    "Y=Y[:, 0]\n",
    "X=X/255\n",
    "\n",
    "\n"
   ]
  },
  {
   "cell_type": "code",
   "execution_count": 3,
   "metadata": {},
   "outputs": [],
   "source": [
    "#splitting into train and test\n",
    "n_classes = 12\n",
    "x_train, x_test, y_train, y_test = train_test_split(X, Y, test_size=0.30, random_state=42)\n",
    "le = LabelEncoder()\n",
    "y_train = le.fit_transform(y_train)\n",
    "y_test = le.transform(y_test)\n",
    "y_train = to_categorical(y_train, n_classes)\n",
    "y_test = to_categorical(y_test, n_classes)\n"
   ]
  },
  {
   "cell_type": "code",
   "execution_count": 4,
   "metadata": {},
   "outputs": [
    {
     "name": "stdout",
     "output_type": "stream",
     "text": [
      "number of training samples = 1488\n",
      "number of test samples = 639\n",
      "X_train shape:(1488, 2500)\n",
      "X_test shape:(639, 2500)\n",
      "Y_train shape:(1488, 12)\n",
      "Y_test shape:(639, 12)\n"
     ]
    }
   ],
   "source": [
    "print(\"number of training samples = \"+str(x_train.shape[0]))\n",
    "print(\"number of test samples = \"+str(x_test.shape[0]))\n",
    "print(\"X_train shape:\"+str(x_train.shape))\n",
    "print(\"X_test shape:\"+str(x_test.shape))\n",
    "print(\"Y_train shape:\"+str(y_train.shape))\n",
    "print(\"Y_test shape:\"+str(y_test.shape))"
   ]
  },
  {
   "cell_type": "code",
   "execution_count": 5,
   "metadata": {},
   "outputs": [
    {
     "name": "stdout",
     "output_type": "stream",
     "text": [
      "X_train shape:(1488, 50, 50, 1)\n",
      "Y_train shape:(1488, 12)\n",
      "X_test shape:(639, 50, 50, 1)\n",
      "Y_test shape:(639, 12)\n"
     ]
    }
   ],
   "source": [
    "image_x=50\n",
    "image_y=50\n",
    "im_shape = (image_x, image_y, 1)\n",
    "train_y=y_train.reshape(y_train.shape[0],y_train.shape[1])\n",
    "test_y=y_test.reshape(y_test.shape[0],y_test.shape[1])\n",
    "x_train=x_train.reshape(x_train.shape[0],50,50,1)\n",
    "x_test=x_test.reshape(x_test.shape[0],50,50,1)\n",
    "print(\"X_train shape:\"+str(x_train.shape))\n",
    "print(\"Y_train shape:\"+str(train_y.shape))\n",
    "print(\"X_test shape:\"+str(x_test.shape))\n",
    "print(\"Y_test shape:\"+str(test_y.shape))\n",
    "x_train= np.asarray(x_train).astype(np.float32)\n",
    "x_test=np.asarray(x_test).astype(np.float32)\n",
    "train_y=np.asarray(train_y).astype(np.float32)\n",
    "test_y=np.asarray(test_y).astype(np.float32)\n",
    "\n"
   ]
  },
  {
   "cell_type": "code",
   "execution_count": 6,
   "metadata": {},
   "outputs": [],
   "source": [
    "def keras_model(image_x,image_y):\n",
    "    n_classes=12\n",
    "    model=Sequential()\n",
    "    model.add(Conv2D(32,(5,5),input_shape=(im_shape),activation='relu'))\n",
    "    model.add(MaxPooling2D(pool_size=(2,2),strides=(2,2),padding='same'))\n",
    "    model.add(Conv2D(64,(5,5),activation='relu'))\n",
    "    model.add(MaxPooling2D(pool_size=(5,5),strides=(5,5),padding='same'))\n",
    "    model.add(Flatten())\n",
    "    model.add(Dense(1024,activation='relu'))\n",
    "    model.add(Dropout(0.6))\n",
    "    model.add(Dense(n_classes,activation='softmax'))\n",
    "    \n",
    "    model.compile(loss='categorical_crossentropy',optimizer='adam',metrics=['accuracy'])\n",
    "    filepath=\"emojinator.h5\"\n",
    "    checkpoint1=ModelCheckpoint(filepath,monitor='val_acc',verbose=1,save_best_only=True,mode='max')\n",
    "    callbacks_list=[checkpoint1]\n",
    "    \n",
    "    return model,callbacks_list\n",
    "    \n",
    "    \n",
    "    \n"
   ]
  },
  {
   "cell_type": "code",
   "execution_count": null,
   "metadata": {},
   "outputs": [
    {
     "name": "stdout",
     "output_type": "stream",
     "text": [
      "Epoch 1/10\n",
      "24/24 [==============================] - ETA: 0s - loss: 0.7413 - accuracy: 0.7742WARNING:tensorflow:Can save best model only with val_acc available, skipping.\n",
      "24/24 [==============================] - 18s 742ms/step - loss: 0.7413 - accuracy: 0.7742 - val_loss: 8.5964e-04 - val_accuracy: 1.0000\n",
      "Epoch 2/10\n",
      "24/24 [==============================] - ETA: 0s - loss: 0.0016 - accuracy: 1.0000WARNING:tensorflow:Can save best model only with val_acc available, skipping.\n",
      "24/24 [==============================] - 17s 696ms/step - loss: 0.0016 - accuracy: 1.0000 - val_loss: 6.1591e-06 - val_accuracy: 1.0000\n",
      "Epoch 3/10\n",
      "24/24 [==============================] - ETA: 0s - loss: 7.6594e-05 - accuracy: 1.0000WARNING:tensorflow:Can save best model only with val_acc available, skipping.\n",
      "24/24 [==============================] - 17s 703ms/step - loss: 7.6594e-05 - accuracy: 1.0000 - val_loss: 1.6721e-06 - val_accuracy: 1.0000\n",
      "Epoch 4/10\n",
      "24/24 [==============================] - ETA: 0s - loss: 3.9613e-05 - accuracy: 1.0000WARNING:tensorflow:Can save best model only with val_acc available, skipping.\n",
      "24/24 [==============================] - 17s 711ms/step - loss: 3.9613e-05 - accuracy: 1.0000 - val_loss: 1.1712e-06 - val_accuracy: 1.0000\n",
      "Epoch 5/10\n",
      "16/24 [===================>..........] - ETA: 5s - loss: 5.2539e-05 - accuracy: 1.0000"
     ]
    }
   ],
   "source": [
    "model,callbacks_list=keras_model(image_x,image_y)\n",
    "model.fit(x_train,train_y,validation_data=(x_test,test_y),epochs=10,batch_size=64,callbacks=callbacks_list)\n",
    "scores=model.evaluate(x_test,test_y,verbose=0)\n",
    "print(\"CNN Error:%.2f%%\"%(100-scores[1]*100))\n",
    "model.summary()\n",
    "model.save('emojinator.h5')"
   ]
  },
  {
   "cell_type": "code",
   "execution_count": null,
   "metadata": {},
   "outputs": [],
   "source": []
  }
 ],
 "metadata": {
  "kernelspec": {
   "display_name": "Python 3",
   "language": "python",
   "name": "python3"
  },
  "language_info": {
   "codemirror_mode": {
    "name": "ipython",
    "version": 3
   },
   "file_extension": ".py",
   "mimetype": "text/x-python",
   "name": "python",
   "nbconvert_exporter": "python",
   "pygments_lexer": "ipython3",
   "version": "3.7.6"
  }
 },
 "nbformat": 4,
 "nbformat_minor": 4
}
